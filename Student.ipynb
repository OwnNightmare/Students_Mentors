{
 "cells": [
  {
   "cell_type": "code",
   "execution_count": 2,
   "source": [
    "class Everybody:\r\n",
    "    \r\n",
    "    def __init__(self, name, surname):\r\n",
    "        self.name = name\r\n",
    "        self.surname = surname\r\n",
    "        \r\n",
    "    def __str__(self):\r\n",
    "        n = '\\n'\r\n",
    "        return f'Name: {self.name}{n}Surname: {self.surname}'\r\n",
    "    \r\n",
    "\r\n",
    "class PersonalAverage:\r\n",
    "    \r\n",
    "    def find_my_average(self, array):\r\n",
    "        pre_average = 0\r\n",
    "        average = 0\r\n",
    "        if type(array) == dict:\r\n",
    "            if len(array) != 0:\r\n",
    "                for value in array.values():\r\n",
    "                    pre_average += (sum(value)/len(value))\r\n",
    "                average = pre_average / len(array)\r\n",
    "                return average\r\n",
    "            return average\r\n",
    "        elif type(array) == list:\r\n",
    "            if len(array) != 0:\r\n",
    "                average = sum(array) / len(array)\r\n",
    "                return average\r\n",
    "            return average\r\n",
    "        else:\r\n",
    "            print('Given argument neither class dict nor list')\r\n",
    "            \r\n",
    "\r\n",
    "class Comparing(PersonalAverage):\r\n",
    "    \r\n",
    "    def __eq__(self, other):\r\n",
    "        if type(other) == type(self):\r\n",
    "            if self.find_my_average(self.rating) == other.find_my_average(other.rating):\r\n",
    "                return(f'{self.name} {self.surname} as good as {other.name} {other.surname}')\r\n",
    "            return self.find_my_average(self.rating) == other.find_my_average(other.rating)\r\n",
    "        return f'Comparing is impossible: instances of different classes'\r\n",
    "    \r\n",
    "    def __lt__(self, other):\r\n",
    "        if type(other) == type(self):\r\n",
    "            if self.find_my_average(self.rating) < other.find_my_average(other.rating):\r\n",
    "                return(f'{self.name} {self.surname} has lower grades than {other.name} {other.surname}')\r\n",
    "            return self.find_my_average(self.rating) < other.find_my_average(other.rating)\r\n",
    "        return f'Comparing is impossible: instances of different classes'\r\n",
    "\r\n",
    "    def __gt__(self, other):\r\n",
    "        if type(other) == type(self):\r\n",
    "            if self.find_my_average(self.rating) > other.find_my_average(other.rating):\r\n",
    "                return(f'{self.name} {self.surname} has higher grades than {other.name} {other.surname}')\r\n",
    "            return self.find_my_average(self.rating) >  other.find_my_average(other.rating)\r\n",
    "        return f'Comparing is impossible: instances of different classes'\r\n",
    "    "
   ],
   "outputs": [],
   "metadata": {}
  },
  {
   "cell_type": "code",
   "execution_count": 3,
   "source": [
    "class Student(Comparing, Everybody, PersonalAverage):\r\n",
    "    \r\n",
    "    def __init__(self, name, surname, gender):\r\n",
    "        super().__init__(name, surname)\r\n",
    "        self.gender = gender\r\n",
    "        self.current_courses = []\r\n",
    "        self.finished_courses = []\r\n",
    "        self.rating = {}\r\n",
    "        \r\n",
    "    def add_course(self, course, status='current'):\r\n",
    "        if type(course) != type([]):\r\n",
    "            if status == 'current':\r\n",
    "                self.current_courses.append(course)\r\n",
    "            elif status == 'finished':\r\n",
    "                self.finished_courses.append(course)\r\n",
    "            else:\r\n",
    "                raise ValueError('Status must be either \"current\" or \"finished\" or empty!')\r\n",
    "        else:\r\n",
    "            if status == 'current':\r\n",
    "                self.current_courses.extend(course)\r\n",
    "            elif status == 'finished':\r\n",
    "                self.finished_courses.extend(course)\r\n",
    "            else:\r\n",
    "                raise ValueError('status must be either \"current\" or \"finished\" or empty!')\r\n",
    "        self.course_set = set(self.current_courses)|set(self.finished_courses)\r\n",
    "        \r\n",
    "    def give_rating(self, lecturer, course, rating):\r\n",
    "        if rating in [x for x in range(11)]:\r\n",
    "            if isinstance(lecturer, Lecturer):\r\n",
    "                if not self.course_set.isdisjoint(lecturer.courses):\r\n",
    "                    if course not in lecturer.rating:\r\n",
    "                        lecturer.rating[course] = [rating]\r\n",
    "                    else:\r\n",
    "                        lecturer.rating[course].append(rating)\r\n",
    "                else:\r\n",
    "                    print(f'Courses dont match')\r\n",
    "            else:\r\n",
    "                print(f'{lecturer} is not instance of  class Lecturer')\r\n",
    "        else:\r\n",
    "            print('rating must be between 0 and 10')\r\n",
    "            \r\n",
    "    def __str__(self):\r\n",
    "        return (super().__str__() + '\\n' + f'Average rating for homeworks: {self.find_my_average(self.rating)}'\r\n",
    "               + '\\n' + f'Current courses: {\", \".join(set(self.current_courses))}' + '\\n' + \r\n",
    "               f'Finished courses: {\", \".join(self.finished_courses)}')"
   ],
   "outputs": [],
   "metadata": {}
  },
  {
   "cell_type": "code",
   "execution_count": 4,
   "source": [
    "class Mentor(Everybody):\r\n",
    "    \r\n",
    "    def __init__(self, name, surname):\r\n",
    "        super().__init__(name, surname) \r\n",
    "        self.courses = []\r\n",
    "        \r\n",
    "    def add_course(self, new_course):\r\n",
    "        if type(new_course) == type([]):\r\n",
    "            self.courses.extend(new_course)\r\n",
    "        else:\r\n",
    "            self.courses.append(new_course)\r\n",
    "        self.course_set = set(self.courses)"
   ],
   "outputs": [],
   "metadata": {}
  },
  {
   "cell_type": "code",
   "execution_count": 5,
   "source": [
    "class Lecturer(Mentor, Comparing, PersonalAverage):\r\n",
    "    \r\n",
    "    def __init__(self, name, surname):\r\n",
    "        super().__init__(name, surname)\r\n",
    "        self.rating = {}\r\n",
    "    \r\n",
    "    def __str__(self):\r\n",
    "        return super().__str__() + '\\n' + (f'Average rating for lectures: {self.find_my_average(self.rating)}')"
   ],
   "outputs": [],
   "metadata": {}
  },
  {
   "cell_type": "code",
   "execution_count": 6,
   "source": [
    "class Reviewer(Mentor):\r\n",
    "    \r\n",
    "    def __init(self, name, surname):\r\n",
    "        super().__init__(name, surname) \r\n",
    "\r\n",
    "    def rate_hw(self, student, course, grade):\r\n",
    "        if course in self.course_set.intersection(student.course_set):\r\n",
    "            if course not in student.rating:\r\n",
    "                student.rating[course] = [grade]\r\n",
    "            else:\r\n",
    "                student.rating[course].append(grade)\r\n",
    "        else:\r\n",
    "            print('Found no courses in common')"
   ],
   "outputs": [],
   "metadata": {}
  },
  {
   "cell_type": "code",
   "execution_count": 7,
   "source": [
    "def count_group_average(group, course='Python'):\r\n",
    "    \r\n",
    "    def counting():\r\n",
    "            average = 0\r\n",
    "            exceptions = 0\r\n",
    "            for inst in group:\r\n",
    "                if inst.rating.get(course):\r\n",
    "                    average += PersonalAverage.find_my_average(inst, inst.rating[course])\r\n",
    "                else:\r\n",
    "                    exceptions += 1\r\n",
    "            average /= (len(group) - exceptions)\r\n",
    "            return average \r\n",
    "        \r\n",
    "    \r\n",
    "    if  isinstance(group[0], Student):\r\n",
    "        return f\"Average students' grades in '{course}': {counting()}\"\r\n",
    "    elif isinstance(group[0], Lecturer):\r\n",
    "        return f\"Average lecturers' rating in '{course}': {counting()}\""
   ],
   "outputs": [],
   "metadata": {}
  },
  {
   "cell_type": "code",
   "execution_count": 8,
   "source": [
    "me = Student('Yura', 'Borisov', 'Male')\r\n",
    "dasha = Student('Dasha', 'Karpina', 'Female')\r\n",
    "cool_mentor = Lecturer('Oleg', 'Buldigin')\r\n",
    "cold_mentor = Lecturer('Anton', 'Zaikin')\r\n",
    "nice_reviewer = Reviewer('Nastya', 'Hlopova')\r\n",
    "bald_reviewer = Reviewer('Vyatchelav', 'Slackovanov')\r\n",
    "All = [me, dasha, cold_mentor, cool_mentor, nice_reviewer, bald_reviewer]\r\n",
    "students = [inst for inst in All if isinstance(inst, Student)]\r\n",
    "lecturers = [inst for inst in All if isinstance(inst, Lecturer)]"
   ],
   "outputs": [],
   "metadata": {}
  },
  {
   "cell_type": "code",
   "execution_count": 9,
   "source": [
    "def attach_to_course(course=['Python', 'Git']):\r\n",
    "    for inst in All:\r\n",
    "        inst.add_course(course)\r\n",
    "    for inst in students:\r\n",
    "        inst.add_course('Introduction to Python', 'finished')\r\n",
    "        \r\n",
    "        \r\n",
    "def rate(): \r\n",
    "    course = 'Python'\r\n",
    "    me.give_rating(cool_mentor, course, 9)\r\n",
    "    me.give_rating(cold_mentor, course, 7)\r\n",
    "    me.give_rating(cool_mentor, 'Git', 10)\r\n",
    "    dasha.give_rating(cool_mentor, course, 8)\r\n",
    "    dasha.give_rating(cold_mentor, course, 6)\r\n",
    "    nice_reviewer.rate_hw(me, course, 4)\r\n",
    "    bald_reviewer.rate_hw(me, course, 4)\r\n",
    "    nice_reviewer.rate_hw(dasha, course, 5)\r\n",
    "    bald_reviewer.rate_hw(dasha, course, 4)\r\n",
    "    nice_reviewer.rate_hw(dasha, 'Git', 5)\r\n",
    "    \r\n",
    "\r\n",
    "def print_all_of_them():\r\n",
    "    print(dasha,'\\n')\r\n",
    "    print(me, '\\n')\r\n",
    "    print(cool_mentor, '\\n')\r\n",
    "    print(cold_mentor, '\\n')\r\n",
    "    print(nice_reviewer, '\\n')\r\n",
    "    print(bald_reviewer, '\\n')"
   ],
   "outputs": [],
   "metadata": {}
  },
  {
   "cell_type": "code",
   "execution_count": 10,
   "source": [
    "attach_to_course()\r\n",
    "rate()\r\n",
    "print_all_of_them()"
   ],
   "outputs": [
    {
     "output_type": "stream",
     "name": "stdout",
     "text": [
      "Name: Dasha\n",
      "Surname: Karpina\n",
      "Average rating for homeworks: 4.75\n",
      "Current courses: Python, Git\n",
      "Finished courses: Introduction to Python \n",
      "\n",
      "Name: Yura\n",
      "Surname: Borisov\n",
      "Average rating for homeworks: 4.0\n",
      "Current courses: Python, Git\n",
      "Finished courses: Introduction to Python \n",
      "\n",
      "Name: Oleg\n",
      "Surname: Buldigin\n",
      "Average rating for lectures: 9.25 \n",
      "\n",
      "Name: Anton\n",
      "Surname: Zaikin\n",
      "Average rating for lectures: 6.5 \n",
      "\n",
      "Name: Nastya\n",
      "Surname: Hlopova \n",
      "\n",
      "Name: Vyatchelav\n",
      "Surname: Slackovanov \n",
      "\n"
     ]
    }
   ],
   "metadata": {}
  },
  {
   "cell_type": "code",
   "execution_count": 11,
   "source": [
    "print(count_group_average(students,))\r\n",
    "print(count_group_average(lecturers, 'Git'))"
   ],
   "outputs": [
    {
     "output_type": "stream",
     "name": "stdout",
     "text": [
      "Average students' grades in 'Python': 4.25\n",
      "Average lecturers' rating in 'Git': 10.0\n"
     ]
    }
   ],
   "metadata": {}
  },
  {
   "cell_type": "code",
   "execution_count": 12,
   "source": [
    "print(cold_mentor > me)\r\n",
    "print(me < dasha)\r\n",
    "\r\n",
    "\r\n"
   ],
   "outputs": [
    {
     "output_type": "stream",
     "name": "stdout",
     "text": [
      "Comparing is impossible: instances of different classes\n",
      "Yura Borisov has lower grades than Dasha Karpina\n"
     ]
    },
    {
     "output_type": "execute_result",
     "data": {
      "text/plain": [
       "True"
      ]
     },
     "metadata": {},
     "execution_count": 12
    }
   ],
   "metadata": {}
  },
  {
   "cell_type": "code",
   "execution_count": null,
   "source": [],
   "outputs": [],
   "metadata": {}
  }
 ],
 "metadata": {
  "kernelspec": {
   "name": "python3",
   "display_name": "Python 3.8.8 64-bit ('base': conda)"
  },
  "language_info": {
   "codemirror_mode": {
    "name": "ipython",
    "version": 3
   },
   "file_extension": ".py",
   "mimetype": "text/x-python",
   "name": "python",
   "nbconvert_exporter": "python",
   "pygments_lexer": "ipython3",
   "version": "3.8.8"
  },
  "interpreter": {
   "hash": "291de34f34dc9cf76b2b1acfbb222620c37b63154e8170ca260742de5c70051e"
  }
 },
 "nbformat": 4,
 "nbformat_minor": 5
}