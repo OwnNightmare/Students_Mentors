{
 "cells": [
  {
   "cell_type": "code",
   "execution_count": 28,
   "id": "9cf96616",
   "metadata": {},
   "outputs": [],
   "source": [
    "class Everybody:\n",
    "    \n",
    "    def __init__(self, name, surname):\n",
    "        self.name = name\n",
    "        self.surname = surname\n",
    "        \n",
    "    def __str__(self):\n",
    "        n = '\\n'\n",
    "        return f'Name: {self.name}{n}Surname: {self.surname}'\n",
    "    \n",
    "\n",
    "class CalculatingAverage:\n",
    "    \n",
    "    def find_average(self, array):\n",
    "        pre_average = 0\n",
    "        average = 0\n",
    "        if type(array) == dict:\n",
    "            if len(array) != 0:\n",
    "                for value in array.values():\n",
    "                    pre_average += (sum(value)/len(value))\n",
    "                average = pre_average / len(array)\n",
    "                return average\n",
    "            return average\n",
    "        elif type(array) == list:\n",
    "            if len(array) != 0:\n",
    "                average = sum(array) / len(array)\n",
    "                return average\n",
    "            return average\n",
    "        else:\n",
    "            print('Given argument neither dict nor list')"
   ]
  },
  {
   "cell_type": "code",
   "execution_count": 29,
   "id": "75374ac8",
   "metadata": {},
   "outputs": [],
   "source": [
    "class Student(Everybody, CalculatingAverage):\n",
    "    \n",
    "    def __init__(self, name, surname, gender):\n",
    "        super().__init__(name, surname)\n",
    "        self.gender = gender\n",
    "        self.current_courses = []\n",
    "        self.finished_courses = []\n",
    "        self.grades = {}\n",
    "        \n",
    "    def add_course(self, course, status='current'):\n",
    "        if type(course) != type([]):\n",
    "            if status == 'current':\n",
    "                self.current_courses.append(course)\n",
    "            elif status == 'finished':\n",
    "                self.finished_courses.append(course)\n",
    "            else:\n",
    "                raise ValueError('Status must be either \"current\" or \"finished\" or not prompted at all!')\n",
    "        else:\n",
    "            if status == 'current':\n",
    "                self.current_courses.extend(course)\n",
    "            elif status == 'finished':\n",
    "                self.finished_courses.extend(course)\n",
    "            else:\n",
    "                raise ValueError('status must be either \"current\" or \"finished\" or not prompted at all!')\n",
    "        self.course_set = set(self.current_courses)|set(self.finished_courses)\n",
    "        \n",
    "    def give_rating(self, lecturer, course, rating):\n",
    "        if rating in [x for x in range(11)]:\n",
    "            if isinstance(lecturer, Lecturer):\n",
    "                if not self.course_set.isdisjoint(lecturer.courses):\n",
    "                    if course not in lecturer.rating:\n",
    "                        lecturer.rating[course] = [rating]\n",
    "                    else:\n",
    "                        lecturer.rating[course].append(rating)\n",
    "                else:\n",
    "                    print(f'Courses dont match')\n",
    "            else:\n",
    "                print(f'{lecturer} is not instance of  class Lecturer')\n",
    "        else:\n",
    "            print('rating must be between 0 and 10')\n",
    "            \n",
    "    def __eq__(self, other):\n",
    "        print('Equal')\n",
    "        return self.find_average(self.grades) == other.find_average(other.grades)\n",
    "    \n",
    "    def __lt__(self, other):\n",
    "        return self.find_average(self.grades) < other.find_average(other.grades)   \n",
    "    \n",
    "    def __gt__(self, other):\n",
    "        return self.find_average(self.grades) >  other.find_average(other.grades)\n",
    "            \n",
    "    def __str__(self):\n",
    "        return (super().__str__() + '\\n' + f'Average rating for homeworks: {self.find_average(self.grades)}'\n",
    "               + '\\n' + f'Current courses: {\", \".join(set(self.current_courses))}' + '\\n' + \n",
    "               f'Finished courses: {\", \".join(self.finished_courses)}')\n",
    "   \n",
    "        "
   ]
  },
  {
   "cell_type": "code",
   "execution_count": 30,
   "id": "651cdd30",
   "metadata": {},
   "outputs": [],
   "source": [
    "class Mentor(Everybody):\n",
    "    \n",
    "    def __init__(self, name, surname):\n",
    "        super().__init__(name, surname) \n",
    "        self.courses = []\n",
    "        \n",
    "    def add_course(self, new_course):\n",
    "        if type(new_course) == type([]):\n",
    "            self.courses.extend(new_course)\n",
    "        else:\n",
    "            self.courses.append(new_course)\n",
    "        self.course_set = set(self.courses)"
   ]
  },
  {
   "cell_type": "code",
   "execution_count": 31,
   "id": "c9723bf6",
   "metadata": {},
   "outputs": [],
   "source": [
    "class Lecturer(Mentor, CalculatingAverage):\n",
    "    \n",
    "    def __init__(self, name, surname):\n",
    "        super().__init__(name, surname)\n",
    "        self.rating = {}\n",
    "    \n",
    "    def __eq__(self, other):\n",
    "        return self.find_average(self.rating) == other.find_average(other.rating)\n",
    "    \n",
    "    def __lt__(self, other):\n",
    "        return self.find_average(self.rating) < other.find_average(other.rating)   \n",
    "    \n",
    "    def __gt__(self, other):\n",
    "        return self.find_average(self.rating) >  other.find_average(other.rating)\n",
    "    \n",
    "    def __str__(self):\n",
    "        return super().__str__() + '\\n' + (f'Average rating for lectures: {self.find_average(self.rating)}')\n"
   ]
  },
  {
   "cell_type": "code",
   "execution_count": 32,
   "id": "9f87d92b",
   "metadata": {},
   "outputs": [],
   "source": [
    "class Reviewer(Mentor):\n",
    "    \n",
    "    def __init(self, name, surname):\n",
    "        super().__init__(name, surname) \n",
    "\n",
    "    def rate_hw(self, student, course, grade):\n",
    "        if course in self.course_set.intersection(student.course_set):\n",
    "            if course not in student.grades:\n",
    "                student.grades[course] = [grade]\n",
    "            else:\n",
    "                student.grades[course].append(grade)\n",
    "        else:\n",
    "            print('Found no courses in common')"
   ]
  },
  {
   "cell_type": "code",
   "execution_count": 33,
   "id": "e311bb47",
   "metadata": {},
   "outputs": [],
   "source": [
    "def count_average(group, course='Python'):\n",
    "    average = 0\n",
    "    exceptions = 0\n",
    "    if  isinstance(group[0], Student):\n",
    "        for inst in group:\n",
    "            if inst.grades.get(course):\n",
    "                average += CalculatingAverage.find_average(inst, inst.grades[course])\n",
    "            else:\n",
    "                exceptions += 1\n",
    "        average /= (len(group) - exceptions)\n",
    "        return f'Average grade for homeworks in {course}: {average}' \n",
    "    elif isinstance(group[0], Lecturer):\n",
    "        for inst in group:\n",
    "            if inst.rating.get(course):\n",
    "                average += CalculatingAverage.find_average(inst, inst.rating[course])\n",
    "            else:\n",
    "                exceptions += 1\n",
    "        average /= (len(group) - exceptions)\n",
    "        return f\"Average lecturer's rate in {course}: {average}\"\n",
    "\n",
    "        "
   ]
  },
  {
   "cell_type": "code",
   "execution_count": 34,
   "id": "33d6d052",
   "metadata": {},
   "outputs": [],
   "source": [
    "me = Student('Yura', 'Borisov', 'Male')\n",
    "dasha = Student('Dasha', 'Karpina', 'Female')\n",
    "cool_mentor = Lecturer('Oleg', 'Buldigin')\n",
    "cold_mentor = Lecturer('Anton', 'Zaikin')\n",
    "nice_reviewer = Reviewer('Nastya', 'Hlopova')\n",
    "rice_reviewer = Reviewer('Vyatchelav', 'Slackovanov')\n",
    "All = [me, dasha, cold_mentor, cool_mentor, nice_reviewer, rice_reviewer]\n",
    "students = [inst for inst in All if isinstance(inst, Student)]\n",
    "lecturers = [inst for inst in All if isinstance(inst, Lecturer)]"
   ]
  },
  {
   "cell_type": "code",
   "execution_count": 35,
   "id": "8b674777",
   "metadata": {},
   "outputs": [],
   "source": [
    "def attach_to_course(course=['Python', 'Git']):\n",
    "    for inst in All:\n",
    "        inst.add_course(course)\n",
    "    for inst in students:\n",
    "        inst.add_course('Introduction to Python', 'finished')\n",
    "        \n",
    "        \n",
    "def rate(): \n",
    "    course = 'Python'\n",
    "    me.give_rating(cool_mentor, course, 10)\n",
    "    me.give_rating(cold_mentor, course, 8)\n",
    "    me.give_rating(cool_mentor, 'Git', 9)\n",
    "    dasha.give_rating(cool_mentor, course, 9)\n",
    "    dasha.give_rating(cold_mentor, course, 7)\n",
    "    nice_reviewer.rate_hw(me, course, 4)\n",
    "    rice_reviewer.rate_hw(me, course, 3)\n",
    "    nice_reviewer.rate_hw(dasha, course, 5)\n",
    "    rice_reviewer.rate_hw(dasha, course, 3)\n",
    "    nice_reviewer.rate_hw(dasha, 'Git', 5)\n",
    "    \n",
    "\n",
    "def print_all_of_them():\n",
    "    print(dasha,'\\n')\n",
    "    print(me, '\\n')\n",
    "    print(cool_mentor, '\\n')\n",
    "    print(cold_mentor, '\\n')\n",
    "    print(nice_reviewer, '\\n')\n",
    "    print(rice_reviewer, '\\n')"
   ]
  },
  {
   "cell_type": "code",
   "execution_count": 36,
   "id": "9ec9ebfa",
   "metadata": {},
   "outputs": [
    {
     "name": "stdout",
     "output_type": "stream",
     "text": [
      "Name: Dasha\n",
      "Surname: Karpina\n",
      "Average rating for homeworks: 4.5\n",
      "Current courses: Git, Python\n",
      "Finished courses: Introduction to Python \n",
      "\n",
      "Name: Yura\n",
      "Surname: Borisov\n",
      "Average rating for homeworks: 3.5\n",
      "Current courses: Git, Python\n",
      "Finished courses: Introduction to Python \n",
      "\n",
      "Name: Oleg\n",
      "Surname: Buldigin\n",
      "Average rating for lectures: 9.25 \n",
      "\n",
      "Name: Anton\n",
      "Surname: Zaikin\n",
      "Average rating for lectures: 7.5 \n",
      "\n",
      "Name: Nastya\n",
      "Surname: Hlopova \n",
      "\n",
      "Name: Vyatchelav\n",
      "Surname: Slackovanov \n",
      "\n"
     ]
    }
   ],
   "source": [
    "attach_to_course()\n",
    "rate()\n",
    "print_all_of_them()"
   ]
  },
  {
   "cell_type": "code",
   "execution_count": 37,
   "id": "c4547d91",
   "metadata": {},
   "outputs": [
    {
     "name": "stdout",
     "output_type": "stream",
     "text": [
      "Average grade for homeworks in Python: 3.75\n",
      "Average lecturer's rate in Git: 9.0\n"
     ]
    }
   ],
   "source": [
    "print(count_average(students,))\n",
    "print(count_average(lecturers, 'Git'))"
   ]
  },
  {
   "cell_type": "code",
   "execution_count": 38,
   "id": "e3049139",
   "metadata": {},
   "outputs": [
    {
     "name": "stdout",
     "output_type": "stream",
     "text": [
      "True\n",
      "False\n"
     ]
    }
   ],
   "source": [
    "print(cold_mentor < cool_mentor)\n",
    "print(dasha < me)\n"
   ]
  },
  {
   "cell_type": "code",
   "execution_count": null,
   "id": "494ce67b",
   "metadata": {},
   "outputs": [],
   "source": []
  }
 ],
 "metadata": {
  "kernelspec": {
   "display_name": "Python 3",
   "language": "python",
   "name": "python3"
  },
  "language_info": {
   "codemirror_mode": {
    "name": "ipython",
    "version": 3
   },
   "file_extension": ".py",
   "mimetype": "text/x-python",
   "name": "python",
   "nbconvert_exporter": "python",
   "pygments_lexer": "ipython3",
   "version": "3.8.8"
  }
 },
 "nbformat": 4,
 "nbformat_minor": 5
}
